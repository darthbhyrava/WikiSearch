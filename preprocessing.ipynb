{
 "cells": [
  {
   "cell_type": "code",
   "execution_count": 2,
   "metadata": {},
   "outputs": [],
   "source": [
    "import bibtexparser\n",
    "import json\n",
    "import re\n",
    "\n",
    "with open('big.bib') as bibtex_file:\n",
    "    bibtex_str = bibtex_file.read()\n",
    "bib_database = bibtexparser.loads(bibtex_str)\n",
    "\n",
    "all_titles = {}\n",
    "article_index = {}\n",
    "\n",
    "for ind, entry in enumerate(bib_database.entries):\n",
    "    try:\n",
    "        article_index[ind] = []\n",
    "        all_titles[ind] =re.sub(r'[^A-Za-z0-9 ]+', '', entry['title'])\n",
    "        author_string = re.sub(r'[^A-Za-z0-9 ]+', '', entry['author'])\n",
    "        authors = re.split('and | AND | ,', author_string)\n",
    "        article_index[ind].extend(authors)\n",
    "    except:\n",
    "        pass\n",
    "\n",
    "author_index = {}\n",
    "for art, auth in article_index.items():\n",
    "    for author in auth:\n",
    "        if author.strip() in author_index:\n",
    "            author_index[author.strip()].append(art)\n",
    "        else:\n",
    "            author_index[author.strip()] = [art]\n",
    "\n",
    "with open('all_titles.json','w+') as f:\n",
    "    json.dump(all_titles, f)\n",
    "    f.close()\n",
    "            \n",
    "with open('author_index.json','w+') as f:\n",
    "    json.dump(author_index, f)\n",
    "    f.close()"
   ]
  },
  {
   "cell_type": "code",
   "execution_count": null,
   "metadata": {},
   "outputs": [],
   "source": []
  }
 ],
 "metadata": {
  "kernelspec": {
   "display_name": "Python 2",
   "language": "python",
   "name": "python2"
  },
  "language_info": {
   "codemirror_mode": {
    "name": "ipython",
    "version": 2
   },
   "file_extension": ".py",
   "mimetype": "text/x-python",
   "name": "python",
   "nbconvert_exporter": "python",
   "pygments_lexer": "ipython2",
   "version": "2.7.12"
  }
 },
 "nbformat": 4,
 "nbformat_minor": 2
}
