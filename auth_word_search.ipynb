{
 "cells": [
  {
   "cell_type": "code",
   "execution_count": 1,
   "metadata": {},
   "outputs": [
    {
     "name": "stderr",
     "output_type": "stream",
     "text": [
      "No handlers could be found for logger \"bibtexparser.bparser\"\n"
     ]
    }
   ],
   "source": [
    "import bibtexparser\n",
    "from collections import Counter\n",
    "import jellyfish\n",
    "import nltk\n",
    "import re\n",
    "from Stemmer import Stemmer\n",
    "from stop_words import get_stop_words\n",
    "\n",
    "stop_words = get_stop_words('en')\n",
    "p_stemmer = Stemmer('english')\n",
    "\n",
    "with open('big.bib') as bibtex_file:\n",
    "    bibtex_str = bibtex_file.read()\n",
    "bib_database = bibtexparser.loads(bibtex_str)"
   ]
  },
  {
   "cell_type": "code",
   "execution_count": 2,
   "metadata": {},
   "outputs": [
    {
     "data": {
      "text/plain": [
       "3332"
      ]
     },
     "execution_count": 2,
     "metadata": {},
     "output_type": "execute_result"
    }
   ],
   "source": [
    "len(bib_database.entries)"
   ]
  },
  {
   "cell_type": "code",
   "execution_count": 3,
   "metadata": {},
   "outputs": [],
   "source": [
    "all_titles = {}\n",
    "article_index = {}\n",
    "\n",
    "for ind, entry in enumerate(bib_database.entries):\n",
    "    try:\n",
    "        all_titles[ind] = entry['title']\n",
    "        article_index[ind] = []\n",
    "        author_string = re.sub(r'[^A-Za-z0-9 ]+', '', entry['author'])\n",
    "        authors = re.split('and | AND | ,', author_string)\n",
    "        article_index[ind].extend(authors)\n",
    "    except:\n",
    "        pass"
   ]
  },
  {
   "cell_type": "code",
   "execution_count": 4,
   "metadata": {},
   "outputs": [],
   "source": [
    "text = re.sub('[^A-Za-z0-9 ]', ' ', all_text)author_index = {}\n",
    "for art, auth in article_index.items():\n",
    "    for author in auth:\n",
    "        if author.strip() in author_index:\n",
    "            author_index[author.strip()].append(art)\n",
    "        else:\n",
    "            author_index[author.strip()] = [art]"
   ]
  },
  {
   "cell_type": "code",
   "execution_count": 29,
   "metadata": {},
   "outputs": [],
   "source": [
    "input_val = u\"Aswani\""
   ]
  },
  {
   "cell_type": "code",
   "execution_count": 30,
   "metadata": {},
   "outputs": [
    {
     "name": "stdout",
     "output_type": "stream",
     "text": [
      "[u'Aswani N', 0.9166666666666666]\n",
      "[u'Large-scale, Parallel Automatic Patent Annotation', u'Large-scale, Parallel Automatic Patent Annotation', u'{Text Processing with GATE (Version 6)}', u'{Text Processing with GATE (Version 6)}', u'{Microblog-Genre Noise and Impact on Semantic Annotation Accuracy}', u'User Feedback Report on the EnviLOD Semantic Search Interface']\n"
     ]
    }
   ],
   "source": [
    "max_match = ['',0]\n",
    "all_text = []\n",
    "for key, value in author_index.items():\n",
    "    dist = jellyfish.jaro_distance(key, input_val)\n",
    "    if dist > max_match[1]:\n",
    "        max_match[1] = dist\n",
    "        max_match[0] = key\n",
    "articles = author_index[max_match[0]]\n",
    "print max_match\n",
    "for i in articles:\n",
    "    all_text.append(all_titles[i])\n",
    "print all_text"
   ]
  },
  {
   "cell_type": "code",
   "execution_count": 36,
   "metadata": {},
   "outputs": [
    {
     "data": {
      "text/plain": [
       "[(u'annotation', 3),\n",
       " (u'semantic', 2),\n",
       " (u'text', 2),\n",
       " (u'scale', 2),\n",
       " (u'patent', 2),\n",
       " (u'parallel', 2),\n",
       " (u'version', 2),\n",
       " (u'6', 2),\n",
       " (u'gate', 2)]"
      ]
     },
     "execution_count": 36,
     "metadata": {},
     "output_type": "execute_result"
    }
   ],
   "source": [
    "text = ''\n",
    "for i in all_text:\n",
    "    text = text + \" \" + i\n",
    "text = re.sub('[^A-Za-z0-9 ]', ' ', text)\n",
    "chunk = nltk.word_tokenize(text.lower())\n",
    "tokens = [i for i in chunk if not i in stop_words]\n",
    "c = Counter(tokens)\n",
    "n = len(tokens)/4\n",
    "c.most_common(n)"
   ]
  },
  {
   "cell_type": "code",
   "execution_count": null,
   "metadata": {},
   "outputs": [],
   "source": []
  },
  {
   "cell_type": "code",
   "execution_count": null,
   "metadata": {},
   "outputs": [],
   "source": []
  }
 ],
 "metadata": {
  "kernelspec": {
   "display_name": "Python 2",
   "language": "python",
   "name": "python2"
  },
  "language_info": {
   "codemirror_mode": {
    "name": "ipython",
    "version": 2
   },
   "file_extension": ".py",
   "mimetype": "text/x-python",
   "name": "python",
   "nbconvert_exporter": "python",
   "pygments_lexer": "ipython2",
   "version": "2.7.12"
  }
 },
 "nbformat": 4,
 "nbformat_minor": 2
}
